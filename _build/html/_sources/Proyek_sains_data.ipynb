{
 "cells": [
  {
   "cell_type": "markdown",
   "metadata": {},
   "source": [
    "# FAST FOOD RESTAURANT SALES PREDICTION FOR STOCK EFFICIENCY"
   ]
  },
  {
   "cell_type": "markdown",
   "metadata": {},
   "source": [
    "## PENDAHULUAN"
   ]
  },
  {
   "cell_type": "markdown",
   "metadata": {},
   "source": [
    "1. LATAR BELAKANG"
   ]
  },
  {
   "cell_type": "markdown",
   "metadata": {},
   "source": [
    "Restoran cepat saji Balaji merupakan  restoran cepat saji dan berkecimpung di industri makanan .Sebagai Restoran Cepat Saji ,Restoran Balaji memiliki visi dan misi untuk memiliki visi dan misi menjadi restoran cepat saji terdepan dalam efisiensi pelayanan.\n",
    "\n",
    "Restoran cepat saji Balaji yang bertempat di Dubai yang terkenal dengan banyaknya pekerja di sana .Target Utama bisnis ini Sebagian besar adalah pekerja yang memiliki jam makan yang terbatas. Oleh karena itu, restoran cepat saji Balaji di Dubai mengutamakan pelayanan cepat dan efisien dengan menu yang mudah disiapkan dan disajikan dalam waktu singkat. Target utama bisnis ini adalah para pekerja yang memiliki waktu makan singkat.\n",
    "\n",
    "Dalam rangka memenuhi visi dan misi tersebut, salah satu tantangan utama yang dihadapi adalah fluktuasi jumlah pesanan yang seringkali sulit diprediksi. Keterbatasan dalam memprediksi jumlah pelanggan dan menu yang akan diminati dapat menyebabkan kekurangan atau kelebihan stok bahan baku, yang pada akhirnya berdampak pada kualitas pelayanan dan efisiensi operasional.\n",
    "\n",
    "Dalam konteks restoran cepat saji, prediksi penjualan memegang peranan penting untuk mengatasi masalah tersebut. Dengan adanya prediksi penjualan yang akurat, restoran dapat memperkirakan  berapa banyak pelanggan yang akan datang dan jenis menu yang akan banyak diminati dalam periode tertentu. Ini membuat restoran cepat saji  dapat mempersiapkan stok bahan baku yang sesuai dengan permintaan, sehingga mengurangi risiko kekurangan atau kelebihan stok,sehingga akan meningkatkan pendapatan dan pengeluaran restoran .\n",
    "\n",
    "Oleh karena itu, proyek ini bertujuan untuk mengembangkan model prediksi penjualan yang dapat membantu restoran cepat saji dalam mengelola stok bahan baku, sehingga operasional dapat berjalan lebih efisien dan produktif. \n"
   ]
  },
  {
   "cell_type": "markdown",
   "metadata": {},
   "source": [
    "2. TUJUAN PROYEK\n"
   ]
  },
  {
   "cell_type": "markdown",
   "metadata": {},
   "source": [
    "Tujuan dari proyek ini adalah sebagai berikut:\n",
    "1.\tMengembangkan model prediksi penjualan yang akurat\n",
    "Membangun model prediksi yang mampu memproyeksikan penjualan harian, mingguan, atau bulanan dengan mempertimbangkan faktor-faktor seperti hari kerja dan akhir pekan, hari-hari khusus, serta waktu makan, agar dapat memenuhi kebutuhan pelanggan, yang mayoritas merupakan pekerja dengan waktu makan terbatas, sehinga dapat mewujudkan visi dan misi menjadi restoran cepat saji terdepan dalam efisiensi pelayanan \n",
    "2.\tMengoptimalkan pengelolaan stok bahan baku berdasarkan prediksi penjualan\n",
    "Model ini diharapkan dapat membantu restoran dalam menyesuaikan stok bahan baku agar sesuai dengan kebutuhan, mengurangi risiko kekurangan atau kelebihan stok yang menyebabkan kerugian.\n",
    "\n"
   ]
  },
  {
   "cell_type": "markdown",
   "metadata": {},
   "source": [
    "3. RUMUSAN MASALAH"
   ]
  },
  {
   "cell_type": "markdown",
   "metadata": {},
   "source": [
    "Berdasarkan latar belakang yang telah diuraikan, beberapa permasalahan yang dapat dirumuskan dalam proyek ini adalah sebagai berikut:\n",
    "1.\tBagaimana memprediksi penjualan harian/mingguan/bulanan di restoran cepat saji secara akurat?\n",
    "Penjualan di restoran cepat saji dipengaruhi oleh berbagai faktor, weekday dan weekend ,hari khusus dan waktu jam makan dan  Rumusan masalah ini berfokus pada bagaimana membangun model prediksi penjualan yang mempertimbangkan faktor-faktor tersebut.\n",
    "2.\tBagaimana prediksi penjualan dapat membantu dalam pengelolaan stok bahan baku?\n",
    "Kekurangan atau kelebihan stok bahan baku merupakan masalah utama yang dapat menyebabkan kerugian. Oleh karena itu, perlu dirumuskan bagaimana prediksi penjualan yang akurat dapat digunakan untuk menyesuaikan jumlah stok bahan baku yang optimal.\n",
    "\n",
    "Rumusan masalah ini menjadi dasar bagi pengembangan solusi dalam proyek ini, yang bertujuan untuk meningkatkan efisiensi operasional restoran cepat saji melalui penggunaan model prediksi penjualan yang efektif.\n"
   ]
  }
 ],
 "metadata": {
  "language_info": {
   "name": "python"
  }
 },
 "nbformat": 4,
 "nbformat_minor": 2
}
