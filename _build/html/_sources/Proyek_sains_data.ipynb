{
 "cells": [
  {
   "cell_type": "markdown",
   "metadata": {},
   "source": [
    "# PREDIKSI HARGA BAHAN POKOK UNTUK MENINGKATKAN PENDAPATAN DAN MENGURANGI RISIKO KERUGIAN DISTRIBUTOR BAHAN POKOK"
   ]
  },
  {
   "cell_type": "markdown",
   "metadata": {},
   "source": [
    "## PENDAHULUAN"
   ]
  },
  {
   "cell_type": "markdown",
   "metadata": {},
   "source": [
    "1. LATAR BELAKANG"
   ]
  },
  {
   "cell_type": "markdown",
   "metadata": {},
   "source": [
    "CV Murah Meriah merupakan Perusahaan Besar yang bergerak pada bidang penyaluran bahan pokok ke pedagang kecil.Sebagai Distributor Bahan Pokok ,CV Murah Meriah memiliki visi dan misi untuk menjadi Penyalur Bahan Pokok yang Murah dan Terpercaya.\n",
    "\n",
    "CV Murah Meriah bertempat di Surabaya yang merupakan salah satu kota besar yang memiliki banyak penduduk dan juga merupakan wilayah yang berhubungan dengan banyak daerah lainnya, karena itu pasti banyak sekali pedagang kecil yang dapat menjadi target penjualan dari Perusahaan. CV Murah Meriah Sebagai Distributor Bahan Pokok mengutamakan harga yang murah dan dapat dijangkau oleh semua pedagang kecil,karena sebagai sesama pedagang pasti ingin membeli dengan harga murah dan menjual dengan harga tinggi.\n",
    "\n",
    "Dalam rangka memenuhi visi dan misi tersebut, salah satu tantangan utama yang dihadapi adalah fluktuasi harga yang seringkali sulit diprediksi. Keterbatasan dalam memperoleh informasi harga akan berdampak pada pengambilan Keputusan dalam pembelian dan penjualan yang pada akhirnya dapat berdampak pada pendapatan Perusahaan.\n",
    "\n",
    "Dalam Konteks Distributor bahan pokok,prediksi harga bahan pokok memegang peran penting dalam pendapatan Perusahaan.Dengan adanya prediksi harga bahan pokok yang akurat ,perusahaan dapat memperkirakan berapa harga bahan pokok dalam beberapa hari atau minggu ke depan,sehingga Perusahaan akan lebih baik dalam mengambil Keputusan,sehingga akan dapat meningkatkan pendapatan Perusahaan karena dapat membeli barang saat waktu yang murah dan dapat menjual barang ketika barang akan turun sehingga dapat mengurangi kerugian.\n",
    "\n",
    "Oleh karena itu, proyek ini bertujuan untuk mengembangkan model prediksi harga bahan pokok yang dapat membantu Distributor Bahan Pokok dalam  mengambil Keputusan dalam pembelian dan penjualan sehingga dapat meningkatkan pendapatan Perusahaan dan mengurangi risiko kerugian\n"
   ]
  },
  {
   "cell_type": "markdown",
   "metadata": {},
   "source": [
    "2. TUJUAN PROYEK\n"
   ]
  },
  {
   "cell_type": "markdown",
   "metadata": {},
   "source": [
    "Tujuan dari proyek ini adalah sebagai berikut:\n",
    "1. Mengembangkan model prediksi penjualan yang akurat\n",
    "Membangun model yang dapat memprediksi harga bahan pokok ,agar Perusahaan tahu kapan harus membeli dan kapan harus menjual,sehingga dapat mewujudkan visi misi menjadi Distributor bahan pokok termurah dan terpercaya.\n",
    "\n",
    "2.\tMengoptimalkan pengelolaan stok bahan pokok berdasarkan prediksi harga \n",
    "Model ini diharapkan dapat membantu Perusahaan dalam mengelola stok bahan pokok Perusahaan,sehingga saat prediksi bahan pokok tinggi maka Perusahaan akan menjual stok nya dan ketika prediksi harga rendah maka Perusahaan akan Bersiap untuk mengisi stok,hal tersebut dilakukan untuk mengurangi risiko kerugian dan meningkatkan pendapatan.\n",
    "\n",
    "\n"
   ]
  },
  {
   "cell_type": "markdown",
   "metadata": {},
   "source": [
    "3. RUMUSAN MASALAH"
   ]
  },
  {
   "cell_type": "markdown",
   "metadata": {},
   "source": [
    "Berdasarkan latar belakang yang telah diuraikan, beberapa permasalahan yang dapat dirumuskan dalam proyek ini adalah sebagai berikut:\n",
    "1.\tBagaimana memprediksi harga bahan pokok secara akurat?\n",
    "Harga bahan pokok bersifat fluktatif sehingga susah untuk memprediksinya dengan akurat,rumusan masalah ini berfokus pada bagaimana membangun model prediksi harga bahan pokok yang akurat.\n",
    "\n",
    "2.\tBagaimana prediksi harga bahan pokok dapat membantu dalam meningkatkan pendapatan perusahaan?\n",
    "Suatu Distributor bahan pokok pasti memiliki Gudang yang menyimpan banyak stok,model prediksi dapat dugunakan untuk memprediksi harga kedepannya ketika harga pasar barang turun maka Perusahaan dapat Bersiap untuk membeli dengan banyak dan Sebagian disimpan,ketika harga tinggi maka barang akan dijual dan akan mendapatkan pendapatan lebih,begitu juga dengan kondisi saat Perusahaan dapat barang dengan harga tinggi dan pasar diprediksi akan turun maka ,maka Perusahaan akan menjualnya secepat mungkin untuk meminimalisir kerugian,oleh karena itu model prediksi bahan pokok sangat diperlukan dalam meningkatkan pendapatan dan mengurangi risiko kerugian\n",
    "\n",
    "\n",
    "Rumusan masalah ini menjadi dasar bagi pengembangan solusi dalam proyek ini, yang bertujuan untuk meningkatkan pendapatan dan mengurangi risiko kerugian melalui penggunaan model prediksi harga bahan pokok yang akurat.\n"
   ]
  }
 ],
 "metadata": {
  "language_info": {
   "name": "python"
  }
 },
 "nbformat": 4,
 "nbformat_minor": 2
}
